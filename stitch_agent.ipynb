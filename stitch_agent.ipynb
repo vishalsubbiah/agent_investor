{
 "cells": [
  {
   "cell_type": "code",
   "execution_count": null,
   "metadata": {},
   "outputs": [],
   "source": [
    "def generate_ticker_ideas(industry):\n",
    "    system_prompt = f\"You are a financial analyst assistant. Generate a list of 5 ticker symbols for major companies in the {industry} industry, as a Python-parseable list.\"\n",
    "\n",
    "    messages = [\n",
    "        {\"role\": \"user\", \"content\": f\"Please provide a list of 5 ticker symbols for major companies in the {industry} industry as a Python-parseable list. Only respond with the list, no other text.\"},\n",
    "    ]\n",
    "\n",
    "    headers = {\n",
    "        \"x-api-key\": ANTHROPIC_API_KEY,\n",
    "        \"anthropic-version\": \"2023-06-01\",\n",
    "        \"content-type\": \"application/json\"\n",
    "    }\n",
    "    data = {\n",
    "        \"model\": 'claude-3-haiku-20240307',\n",
    "        \"max_tokens\": 200,\n",
    "        \"temperature\": 0.5,\n",
    "        \"system\": system_prompt,\n",
    "        \"messages\": messages,\n",
    "    }\n",
    "    response = requests.post(\"https://api.anthropic.com/v1/messages\", headers=headers, json=data)\n",
    "    response_text = response.json()['content'][0]['text']\n",
    "\n",
    "    ticker_list = ast.literal_eval(response_text)\n",
    "    return [ticker.strip() for ticker in ticker_list]\n",
    "\n",
    "def get_current_price(ticker):\n",
    "    stock = yf.Ticker(ticker)\n",
    "    data = stock.history(period='1d', interval='1m')\n",
    "    return data['Close'][-1]\n",
    "\n"
   ]
  }
 ],
 "metadata": {
  "language_info": {
   "name": "python"
  }
 },
 "nbformat": 4,
 "nbformat_minor": 2
}
